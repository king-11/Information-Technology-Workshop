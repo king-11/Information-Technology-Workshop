{
 "cells": [
  {
   "cell_type": "code",
   "execution_count": 16,
   "metadata": {},
   "outputs": [],
   "source": [
    "item_names = [\"Chicken Strips\", \"French Fries  \", \"Hamburger     \",\n",
    "              \"Hotdog        \", \"Large Drink   \", \"Medium Drink  \",\n",
    "              \"Milk Shake    \", \"Salad         \", \"Small Drink   \"]\n",
    "item_prices = [3.50, 2.50, 4.00, 3.50, 1.75, 1.50, 2.25, 3.75, 1.25]"
   ]
  },
  {
   "cell_type": "code",
   "execution_count": 17,
   "metadata": {},
   "outputs": [
    {
     "name": "stdout",
     "output_type": "stream",
     "text": [
      "Menu:\n",
      "1. Chicken Strips - $3.5\n",
      "2. French Fries   - $2.5\n",
      "3. Hamburger      - $4.0\n",
      "4. Hotdog         - $3.5\n",
      "5. Large Drink    - $1.75\n",
      "6. Medium Drink   - $1.5\n",
      "7. Milk Shake     - $2.25\n",
      "8. Salad          - $3.75\n",
      "9. Small Drink    - $1.25\n"
     ]
    }
   ],
   "source": [
    "print('Menu:')\n",
    "for i in range(1, 10):\n",
    "    print(f\"{i}. {item_names[i - 1]} - ${item_prices[i - 1]}\")"
   ]
  },
  {
   "cell_type": "code",
   "execution_count": 18,
   "metadata": {},
   "outputs": [],
   "source": [
    "order_number = 1"
   ]
  },
  {
   "cell_type": "code",
   "execution_count": 19,
   "metadata": {},
   "outputs": [
    {
     "name": "stdout",
     "output_type": "stream",
     "text": [
      "\n",
      "Place your order (0 to exit): 12458\n",
      "\n",
      "Your order with order number 1 is:\n",
      "1.Chicken Strips\t$3.5*1\n",
      "2.French Fries  \t$2.5*1\n",
      "3.Hotdog        \t$3.5*1\n",
      "4.Large Drink   \t$1.75*1\n",
      "5.Salad         \t$3.75*1\n",
      "Your order costs $15.0\n",
      "\n",
      "\n",
      "Place your order (0 to exit): 0\n"
     ]
    }
   ],
   "source": [
    "while True:\n",
    "    order = input(\"\\nPlace your order (0 to exit): \")\n",
    "    if order == '0':\n",
    "        break\n",
    "    total = 0\n",
    "    index = 1\n",
    "    print(f\"\\nYour order with order number {order_number} is:\")\n",
    "    for i in range(1, 10):\n",
    "        count = order.count(str(i))\n",
    "        if count:\n",
    "            #txt = \"{:d}.{}\\t{:.2f}*{:d}\"\n",
    "            print(f\"{index}.{item_names[i-1]}\\t${item_prices[i-1]}*{count}\")\n",
    "            #print(txt.format(index, item_names[i - 1], item_prices[i - 1], count))\n",
    "            total += item_prices[int(i) - 1] * count\n",
    "            index += 1\n",
    "    print(f\"Your order costs ${total}\\n\")\n",
    "    order_number += 1"
   ]
  },
  {
   "cell_type": "code",
   "execution_count": null,
   "metadata": {},
   "outputs": [],
   "source": [
    "print(\"Hope you enjoyed our services...\")"
   ]
  },
  {
   "cell_type": "code",
   "execution_count": 7,
   "metadata": {},
   "outputs": [],
   "source": []
  },
  {
   "cell_type": "code",
   "execution_count": null,
   "metadata": {},
   "outputs": [],
   "source": []
  }
 ],
 "metadata": {
  "kernelspec": {
   "display_name": "Python 3",
   "language": "python",
   "name": "python3"
  },
  "language_info": {
   "codemirror_mode": {
    "name": "ipython",
    "version": 3
   },
   "file_extension": ".py",
   "mimetype": "text/x-python",
   "name": "python",
   "nbconvert_exporter": "python",
   "pygments_lexer": "ipython3",
   "version": "3.7.7"
  }
 },
 "nbformat": 4,
 "nbformat_minor": 4
}
