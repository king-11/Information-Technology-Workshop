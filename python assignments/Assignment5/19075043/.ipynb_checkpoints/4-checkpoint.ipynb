{
 "cells": [
  {
   "cell_type": "code",
   "execution_count": 1,
   "metadata": {},
   "outputs": [
    {
     "name": "stdout",
     "output_type": "stream",
     "text": [
      "\t\tWelcome to Address Book\n",
      "1. Add_contact\n",
      "2. Display_contact\n",
      "3. Delete_contact\n",
      "4. Modify_contact\n",
      "5. Search_contact\n",
      "\n",
      "Enter your choice: 2\n",
      "\n",
      "Enter 0 to exit\n"
     ]
    }
   ],
   "source": [
    "import pickle\n",
    "print(\"\\t\\tWelcome to Address Book\\n1. Add_contact\\n2. Display_contact\\n3. Delete_contact\\n4. Modify_contact\\n5. Search_contact\")\n",
    "choice = input(\"\\nEnter your choice: \")\n",
    "print(\"\\nEnter 0 to exit\")"
   ]
  },
  {
   "cell_type": "code",
   "execution_count": 2,
   "metadata": {},
   "outputs": [],
   "source": [
    "def pickle_write():\n",
    "    with open('contacts.pickle', 'wb') as file:\n",
    "        pickle.dump(contact_list, file, protocol=pickle.HIGHEST_PROTOCOL)\n",
    "\n",
    "\n",
    "def pickle_get():\n",
    "    with open('contacts.pickle', 'rb') as file:\n",
    "        try:\n",
    "            list = pickle.load(file)\n",
    "        except EOFError:\n",
    "            list = []\n",
    "        return list"
   ]
  },
  {
   "cell_type": "code",
   "execution_count": 3,
   "metadata": {},
   "outputs": [],
   "source": [
    "contact_list = pickle_get()\n",
    "if not contact_list:\n",
    "    pickle_write()"
   ]
  },
  {
   "cell_type": "code",
   "execution_count": 5,
   "metadata": {},
   "outputs": [
    {
     "name": "stdout",
     "output_type": "stream",
     "text": [
      "\n",
      "\n",
      "Thanks for logging in\n"
     ]
    }
   ],
   "source": [
    "while choice:\n",
    "    if choice == \"1\":\n",
    "        name = input(\"Enter contact name: \")\n",
    "        email = input(\"Enter contact email: \")\n",
    "        phone = input(\"Enter contact number: \")\n",
    "        contact_details = {\"name\": name, \"email\": email, \"phone\": phone}\n",
    "        contact_list.append(contact_details)\n",
    "        pickle_write()\n",
    "        print(\"\\nContact successfully added\")\n",
    "\n",
    "    elif choice == \"2\":\n",
    "        contact_list = pickle_get()\n",
    "        if contact_list:\n",
    "            for i in contact_list:\n",
    "                print(\n",
    "                    f\"\\nName: {i['name']}\\nEmail: {i['email']}\\nContact Number: {i['phone']}\")\n",
    "        else:\n",
    "            print(\"No such contact in address book\")\n",
    "\n",
    "    elif choice == \"3\":\n",
    "        contact_list = pickle_get()\n",
    "        if not contact_list:\n",
    "            print(\"Address book empty. No contact to delete\")\n",
    "        else:\n",
    "            name = input(\"Enter contact name: \")\n",
    "            for i in contact_list:\n",
    "                if i[\"name\"] == name:\n",
    "                    contact_list.remove(i)\n",
    "                    print(\"Contact Successfully Deleted\")\n",
    "                    pickle_write()\n",
    "                    break\n",
    "            else:\n",
    "                print(\"No contact with this name\")\n",
    "\n",
    "    elif choice == \"4\":\n",
    "        contact_list = pickle_get()\n",
    "        if not contact_list:\n",
    "            print(\"Address book empty. No contact to modify\")\n",
    "        else:\n",
    "            name = input(\"Enter contact name: \")\n",
    "            for i in range(len(contact_list)):\n",
    "                if contact_list[i][\"name\"] == name:\n",
    "                    name = input(\"Enter new name: \")\n",
    "                    email = input(\"Enter new email: \")\n",
    "                    phone = input(\"Enter new number: \")\n",
    "                    contact_details = {\"name\": name,\n",
    "                                    \"email\": email, \"phone\": phone}\n",
    "                    contact_list[i] = contact_details\n",
    "                    print(\"\\nContact modified\")\n",
    "                    pickle_write()\n",
    "                    break\n",
    "            else:\n",
    "                print(\"No contact with this name found\")\n",
    "\n",
    "    elif choice == \"5\":\n",
    "        contact_list = pickle_get()\n",
    "        if not contact_list:\n",
    "            print(\"Address book empty. No contact to delete\")\n",
    "        else:\n",
    "            name = input(\"Enter contact name: \")\n",
    "            for i in contact_list:\n",
    "                if i[\"name\"] == name:\n",
    "                    print(\"Email:\", i[\"email\"])\n",
    "                    print(\"Contact Number:\", i[\"phone\"])\n",
    "                    break\n",
    "            else:\n",
    "                print(\"No contact with this name found\")\n",
    "    elif choice == \"0\":\n",
    "        print(\"\\n\\nThanks for logging in :)\")\n",
    "        break\n",
    "    else:\n",
    "        print(\"Invalid Choice!!!\")\n",
    "    choice = input(\"\\nEnter your choice: \")"
   ]
  },
  {
   "cell_type": "code",
   "execution_count": null,
   "metadata": {},
   "outputs": [],
   "source": []
  }
 ],
 "metadata": {
  "kernelspec": {
   "display_name": "Python 3",
   "language": "python",
   "name": "python3"
  },
  "language_info": {
   "codemirror_mode": {
    "name": "ipython",
    "version": 3
   },
   "file_extension": ".py",
   "mimetype": "text/x-python",
   "name": "python",
   "nbconvert_exporter": "python",
   "pygments_lexer": "ipython3",
   "version": "3.7.7"
  }
 },
 "nbformat": 4,
 "nbformat_minor": 4
}
